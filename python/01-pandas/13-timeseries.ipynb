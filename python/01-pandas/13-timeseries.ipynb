{
 "cells": [
  {
   "cell_type": "markdown",
   "metadata": {},
   "source": [
    "# 时间序列分析预测"
   ]
  },
  {
   "cell_type": "markdown",
   "metadata": {},
   "source": [
    "## 时间序列常见的主要有三类\n",
    "- 时间戳(timestamp)\n",
    "- 固定周期(period)\n",
    "- 时间间隔(interval)\n",
    "\n",
    "## date_range\n",
    "- 可以指定开始时间与周期\n",
    "- H:小时\n",
    "- D: 天\n",
    "- M: 月"
   ]
  },
  {
   "cell_type": "code",
   "execution_count": 1,
   "metadata": {},
   "outputs": [],
   "source": [
    "import pandas as pd\n",
    "import numpy as np"
   ]
  },
  {
   "cell_type": "code",
   "execution_count": 9,
   "metadata": {},
   "outputs": [
    {
     "data": {
      "text/plain": [
       "DatetimeIndex(['2016-07-01', '2016-07-04', '2016-07-07', '2016-07-10',\n",
       "               '2016-07-13', '2016-07-16', '2016-07-19', '2016-07-22',\n",
       "               '2016-07-25', '2016-07-28'],\n",
       "              dtype='datetime64[ns]', freq='3D')"
      ]
     },
     "execution_count": 9,
     "metadata": {},
     "output_type": "execute_result"
    }
   ],
   "source": [
    "# TIMES #2016 Jul 1 7/1/2016  1/7/2016 2016-07-01 2016/07/01\n",
    "rng = pd.date_range('2016/07/01',periods=10, freq='3D')\n",
    "rng"
   ]
  },
  {
   "cell_type": "code",
   "execution_count": 5,
   "metadata": {},
   "outputs": [
    {
     "name": "stdout",
     "output_type": "stream",
     "text": [
      "2016-01-01   -0.295082\n",
      "2016-01-02   -1.466282\n",
      "2016-01-03   -1.565906\n",
      "2016-01-04    0.287160\n",
      "2016-01-05    0.303060\n",
      "2016-01-06   -1.656336\n",
      "2016-01-07   -0.332196\n",
      "2016-01-08    0.159558\n",
      "2016-01-09    1.682851\n",
      "2016-01-10   -0.176681\n",
      "2016-01-11    0.961318\n",
      "2016-01-12    2.436154\n",
      "2016-01-13    0.697507\n",
      "2016-01-14    1.262342\n",
      "2016-01-15   -0.361066\n",
      "2016-01-16    0.692581\n",
      "2016-01-17    0.470911\n",
      "2016-01-18   -1.804268\n",
      "2016-01-19   -0.011344\n",
      "2016-01-20    1.039211\n",
      "Freq: D, dtype: float64\n"
     ]
    }
   ],
   "source": [
    "time = pd.Series(np.random.randn(20), index=pd.date_range(pd.datetime(2016,1,1),periods=20))\n",
    "print(time)"
   ]
  },
  {
   "cell_type": "code",
   "execution_count": 10,
   "metadata": {},
   "outputs": [
    {
     "name": "stdout",
     "output_type": "stream",
     "text": [
      "-0.3610658367122751\n"
     ]
    }
   ],
   "source": [
    "print(time['2016-01-15'])"
   ]
  },
  {
   "cell_type": "code",
   "execution_count": 12,
   "metadata": {},
   "outputs": [
    {
     "name": "stdout",
     "output_type": "stream",
     "text": [
      "2016-01-15   -0.361066\n",
      "2016-01-16    0.692581\n",
      "2016-01-17    0.470911\n",
      "2016-01-18   -1.804268\n",
      "2016-01-19   -0.011344\n",
      "2016-01-20    1.039211\n",
      "Freq: D, dtype: float64\n"
     ]
    }
   ],
   "source": [
    "print(time['2016-01-15':'2016-01-20'])"
   ]
  },
  {
   "cell_type": "markdown",
   "metadata": {},
   "source": [
    "# truncate 过来"
   ]
  },
  {
   "cell_type": "code",
   "execution_count": 13,
   "metadata": {},
   "outputs": [
    {
     "data": {
      "text/plain": [
       "2016-01-10   -0.176681\n",
       "2016-01-11    0.961318\n",
       "2016-01-12    2.436154\n",
       "2016-01-13    0.697507\n",
       "2016-01-14    1.262342\n",
       "2016-01-15   -0.361066\n",
       "2016-01-16    0.692581\n",
       "2016-01-17    0.470911\n",
       "2016-01-18   -1.804268\n",
       "2016-01-19   -0.011344\n",
       "2016-01-20    1.039211\n",
       "Freq: D, dtype: float64"
      ]
     },
     "execution_count": 13,
     "metadata": {},
     "output_type": "execute_result"
    }
   ],
   "source": [
    "time.truncate(before='2016-1-10')"
   ]
  },
  {
   "cell_type": "code",
   "execution_count": 14,
   "metadata": {},
   "outputs": [
    {
     "data": {
      "text/plain": [
       "Timestamp('2016-07-10 00:00:00')"
      ]
     },
     "execution_count": 14,
     "metadata": {},
     "output_type": "execute_result"
    }
   ],
   "source": [
    "pd.Timestamp('2016-07-10')"
   ]
  },
  {
   "cell_type": "code",
   "execution_count": 15,
   "metadata": {},
   "outputs": [
    {
     "data": {
      "text/plain": [
       "Timestamp('2016-07-10 19:00:00')"
      ]
     },
     "execution_count": 15,
     "metadata": {},
     "output_type": "execute_result"
    }
   ],
   "source": [
    "pd.Timestamp('2016-07-10 19')"
   ]
  },
  {
   "cell_type": "code",
   "execution_count": 16,
   "metadata": {},
   "outputs": [
    {
     "data": {
      "text/plain": [
       "Timedelta('1 days 00:00:00')"
      ]
     },
     "execution_count": 16,
     "metadata": {},
     "output_type": "execute_result"
    }
   ],
   "source": [
    "pd.Timedelta('1 day')"
   ]
  },
  {
   "cell_type": "code",
   "execution_count": 17,
   "metadata": {},
   "outputs": [
    {
     "data": {
      "text/plain": [
       "Period('2016-01-11 10:10', 'T')"
      ]
     },
     "execution_count": 17,
     "metadata": {},
     "output_type": "execute_result"
    }
   ],
   "source": [
    "pd.Period('2016-01-10 10:10') + pd.Timedelta('1 day')"
   ]
  },
  {
   "cell_type": "code",
   "execution_count": 18,
   "metadata": {},
   "outputs": [],
   "source": [
    "p1 = pd.period_range('2016-01-01 10:10',freq='25H',periods=10)"
   ]
  },
  {
   "cell_type": "code",
   "execution_count": 19,
   "metadata": {},
   "outputs": [],
   "source": [
    "p2 = pd.period_range('2016-01-01 10:10',freq='1D1H',periods=10)"
   ]
  },
  {
   "cell_type": "code",
   "execution_count": 20,
   "metadata": {},
   "outputs": [
    {
     "data": {
      "text/plain": [
       "PeriodIndex(['2016-01-01 10:00', '2016-01-02 11:00', '2016-01-03 12:00',\n",
       "             '2016-01-04 13:00', '2016-01-05 14:00', '2016-01-06 15:00',\n",
       "             '2016-01-07 16:00', '2016-01-08 17:00', '2016-01-09 18:00',\n",
       "             '2016-01-10 19:00'],\n",
       "            dtype='period[25H]', freq='25H')"
      ]
     },
     "execution_count": 20,
     "metadata": {},
     "output_type": "execute_result"
    }
   ],
   "source": [
    "p1"
   ]
  },
  {
   "cell_type": "code",
   "execution_count": 21,
   "metadata": {},
   "outputs": [
    {
     "data": {
      "text/plain": [
       "2016-07-10 08:00:00    0\n",
       "2016-07-10 09:00:00    1\n",
       "2016-07-10 10:00:00    2\n",
       "2016-07-10 11:00:00    3\n",
       "2016-07-10 12:00:00    4\n",
       "2016-07-10 13:00:00    5\n",
       "2016-07-10 14:00:00    6\n",
       "2016-07-10 15:00:00    7\n",
       "2016-07-10 16:00:00    8\n",
       "2016-07-10 17:00:00    9\n",
       "Freq: H, dtype: int64"
      ]
     },
     "execution_count": 21,
     "metadata": {},
     "output_type": "execute_result"
    }
   ],
   "source": [
    "ts = pd.Series(range(10), pd.date_range('07-10-16 8:00', periods=10, freq='H'))\n",
    "ts"
   ]
  },
  {
   "cell_type": "code",
   "execution_count": 22,
   "metadata": {},
   "outputs": [
    {
     "data": {
      "text/plain": [
       "2016-07-10 08:00    0\n",
       "2016-07-10 09:00    1\n",
       "2016-07-10 10:00    2\n",
       "2016-07-10 11:00    3\n",
       "2016-07-10 12:00    4\n",
       "2016-07-10 13:00    5\n",
       "2016-07-10 14:00    6\n",
       "2016-07-10 15:00    7\n",
       "2016-07-10 16:00    8\n",
       "2016-07-10 17:00    9\n",
       "Freq: H, dtype: int64"
      ]
     },
     "execution_count": 22,
     "metadata": {},
     "output_type": "execute_result"
    }
   ],
   "source": [
    "ts.to_period()"
   ]
  },
  {
   "cell_type": "code",
   "execution_count": 23,
   "metadata": {},
   "outputs": [
    {
     "data": {
      "text/plain": [
       "pandas.core.indexes.datetimes.DatetimeIndex"
      ]
     },
     "execution_count": 23,
     "metadata": {},
     "output_type": "execute_result"
    }
   ],
   "source": [
    "type(ts.index)"
   ]
  },
  {
   "cell_type": "code",
   "execution_count": 25,
   "metadata": {},
   "outputs": [
    {
     "data": {
      "text/plain": [
       "2016-07-10 08:00    0\n",
       "2016-07-10 09:00    1\n",
       "2016-07-10 10:00    2\n",
       "2016-07-10 11:00    3\n",
       "2016-07-10 12:00    4\n",
       "2016-07-10 13:00    5\n",
       "2016-07-10 14:00    6\n",
       "2016-07-10 15:00    7\n",
       "2016-07-10 16:00    8\n",
       "2016-07-10 17:00    9\n",
       "Freq: H, dtype: int64"
      ]
     },
     "execution_count": 25,
     "metadata": {},
     "output_type": "execute_result"
    }
   ],
   "source": [
    "ts_period = ts.to_period()\n",
    "ts_period"
   ]
  },
  {
   "cell_type": "markdown",
   "metadata": {},
   "source": [
    "## 数据重采样\n",
    "- 时间数据由一个频率转换到另一个频率\n",
    "- 降采样\n",
    "- 升采样"
   ]
  },
  {
   "cell_type": "code",
   "execution_count": 26,
   "metadata": {},
   "outputs": [
    {
     "data": {
      "text/plain": [
       "2011-01-01   -0.338629\n",
       "2011-01-02    1.018697\n",
       "2011-01-03   -0.429332\n",
       "2011-01-04   -1.360184\n",
       "2011-01-05   -0.565838\n",
       "Freq: D, dtype: float64"
      ]
     },
     "execution_count": 26,
     "metadata": {},
     "output_type": "execute_result"
    }
   ],
   "source": [
    "rng = pd.date_range('1/1/2011',periods=90, freq='D')\n",
    "ts = pd.Series(np.random.randn(len(rng)),index=rng)\n",
    "ts.head()"
   ]
  },
  {
   "cell_type": "code",
   "execution_count": 27,
   "metadata": {},
   "outputs": [
    {
     "data": {
      "text/plain": [
       "2011-01-31   -10.067391\n",
       "2011-02-28    -9.325605\n",
       "2011-03-31    -9.244100\n",
       "Freq: M, dtype: float64"
      ]
     },
     "execution_count": 27,
     "metadata": {},
     "output_type": "execute_result"
    }
   ],
   "source": [
    "ts.resample('M').sum()"
   ]
  },
  {
   "cell_type": "code",
   "execution_count": 30,
   "metadata": {},
   "outputs": [],
   "source": [
    "day3Ts = ts.resample('3D').mean()"
   ]
  },
  {
   "cell_type": "code",
   "execution_count": 31,
   "metadata": {},
   "outputs": [
    {
     "name": "stdout",
     "output_type": "stream",
     "text": [
      "2011-01-01    0.083579\n",
      "2011-01-02         NaN\n",
      "2011-01-03         NaN\n",
      "2011-01-04   -1.193280\n",
      "2011-01-05         NaN\n",
      "2011-01-06         NaN\n",
      "2011-01-07   -0.352217\n",
      "2011-01-08         NaN\n",
      "2011-01-09         NaN\n",
      "2011-01-10    0.405149\n",
      "2011-01-11         NaN\n",
      "2011-01-12         NaN\n",
      "2011-01-13   -1.026860\n",
      "2011-01-14         NaN\n",
      "2011-01-15         NaN\n",
      "2011-01-16    0.013671\n",
      "2011-01-17         NaN\n",
      "2011-01-18         NaN\n",
      "2011-01-19   -0.121115\n",
      "2011-01-20         NaN\n",
      "2011-01-21         NaN\n",
      "2011-01-22   -0.310761\n",
      "2011-01-23         NaN\n",
      "2011-01-24         NaN\n",
      "2011-01-25   -0.644026\n",
      "2011-01-26         NaN\n",
      "2011-01-27         NaN\n",
      "2011-01-28   -0.242995\n",
      "2011-01-29         NaN\n",
      "2011-01-30         NaN\n",
      "                ...   \n",
      "2011-02-28         NaN\n",
      "2011-03-01         NaN\n",
      "2011-03-02   -0.431489\n",
      "2011-03-03         NaN\n",
      "2011-03-04         NaN\n",
      "2011-03-05   -0.080627\n",
      "2011-03-06         NaN\n",
      "2011-03-07         NaN\n",
      "2011-03-08   -0.426764\n",
      "2011-03-09         NaN\n",
      "2011-03-10         NaN\n",
      "2011-03-11   -0.007473\n",
      "2011-03-12         NaN\n",
      "2011-03-13         NaN\n",
      "2011-03-14   -1.664196\n",
      "2011-03-15         NaN\n",
      "2011-03-16         NaN\n",
      "2011-03-17    0.094096\n",
      "2011-03-18         NaN\n",
      "2011-03-19         NaN\n",
      "2011-03-20    0.049076\n",
      "2011-03-21         NaN\n",
      "2011-03-22         NaN\n",
      "2011-03-23   -0.126251\n",
      "2011-03-24         NaN\n",
      "2011-03-25         NaN\n",
      "2011-03-26   -0.697282\n",
      "2011-03-27         NaN\n",
      "2011-03-28         NaN\n",
      "2011-03-29   -0.233906\n",
      "Freq: D, Length: 88, dtype: float64\n"
     ]
    }
   ],
   "source": [
    "print(day3Ts.resample('D').asfreq())"
   ]
  },
  {
   "cell_type": "markdown",
   "metadata": {},
   "source": [
    "## 插值方法\n",
    "- ffill 空值取前面的值\n",
    "- bfill 空值取后面的值\n",
    "- interpolate 线性取值"
   ]
  },
  {
   "cell_type": "code",
   "execution_count": 33,
   "metadata": {},
   "outputs": [
    {
     "data": {
      "text/plain": [
       "2011-01-01    0.083579\n",
       "2011-01-02    0.083579\n",
       "2011-01-03    0.083579\n",
       "2011-01-04   -1.193280\n",
       "2011-01-05   -1.193280\n",
       "2011-01-06   -1.193280\n",
       "2011-01-07   -0.352217\n",
       "2011-01-08   -0.352217\n",
       "2011-01-09   -0.352217\n",
       "2011-01-10    0.405149\n",
       "2011-01-11    0.405149\n",
       "2011-01-12    0.405149\n",
       "2011-01-13   -1.026860\n",
       "2011-01-14   -1.026860\n",
       "2011-01-15   -1.026860\n",
       "2011-01-16    0.013671\n",
       "2011-01-17    0.013671\n",
       "2011-01-18    0.013671\n",
       "2011-01-19   -0.121115\n",
       "2011-01-20   -0.121115\n",
       "2011-01-21   -0.121115\n",
       "2011-01-22   -0.310761\n",
       "2011-01-23   -0.310761\n",
       "2011-01-24   -0.310761\n",
       "2011-01-25   -0.644026\n",
       "2011-01-26   -0.644026\n",
       "2011-01-27   -0.644026\n",
       "2011-01-28   -0.242995\n",
       "2011-01-29   -0.242995\n",
       "2011-01-30   -0.242995\n",
       "                ...   \n",
       "2011-02-28    0.865435\n",
       "2011-03-01    0.865435\n",
       "2011-03-02   -0.431489\n",
       "2011-03-03   -0.431489\n",
       "2011-03-04   -0.431489\n",
       "2011-03-05   -0.080627\n",
       "2011-03-06   -0.080627\n",
       "2011-03-07   -0.080627\n",
       "2011-03-08   -0.426764\n",
       "2011-03-09   -0.426764\n",
       "2011-03-10   -0.426764\n",
       "2011-03-11   -0.007473\n",
       "2011-03-12   -0.007473\n",
       "2011-03-13   -0.007473\n",
       "2011-03-14   -1.664196\n",
       "2011-03-15   -1.664196\n",
       "2011-03-16   -1.664196\n",
       "2011-03-17    0.094096\n",
       "2011-03-18    0.094096\n",
       "2011-03-19    0.094096\n",
       "2011-03-20    0.049076\n",
       "2011-03-21    0.049076\n",
       "2011-03-22    0.049076\n",
       "2011-03-23   -0.126251\n",
       "2011-03-24   -0.126251\n",
       "2011-03-25   -0.126251\n",
       "2011-03-26   -0.697282\n",
       "2011-03-27   -0.697282\n",
       "2011-03-28   -0.697282\n",
       "2011-03-29   -0.233906\n",
       "Freq: D, Length: 88, dtype: float64"
      ]
     },
     "execution_count": 33,
     "metadata": {},
     "output_type": "execute_result"
    }
   ],
   "source": [
    "day3Ts.resample('D').ffill(2)"
   ]
  },
  {
   "cell_type": "code",
   "execution_count": 34,
   "metadata": {},
   "outputs": [
    {
     "data": {
      "text/plain": [
       "2011-01-01    0.083579\n",
       "2011-01-02         NaN\n",
       "2011-01-03   -1.193280\n",
       "2011-01-04   -1.193280\n",
       "2011-01-05         NaN\n",
       "2011-01-06   -0.352217\n",
       "2011-01-07   -0.352217\n",
       "2011-01-08         NaN\n",
       "2011-01-09    0.405149\n",
       "2011-01-10    0.405149\n",
       "2011-01-11         NaN\n",
       "2011-01-12   -1.026860\n",
       "2011-01-13   -1.026860\n",
       "2011-01-14         NaN\n",
       "2011-01-15    0.013671\n",
       "2011-01-16    0.013671\n",
       "2011-01-17         NaN\n",
       "2011-01-18   -0.121115\n",
       "2011-01-19   -0.121115\n",
       "2011-01-20         NaN\n",
       "2011-01-21   -0.310761\n",
       "2011-01-22   -0.310761\n",
       "2011-01-23         NaN\n",
       "2011-01-24   -0.644026\n",
       "2011-01-25   -0.644026\n",
       "2011-01-26         NaN\n",
       "2011-01-27   -0.242995\n",
       "2011-01-28   -0.242995\n",
       "2011-01-29         NaN\n",
       "2011-01-30   -0.881379\n",
       "                ...   \n",
       "2011-02-28         NaN\n",
       "2011-03-01   -0.431489\n",
       "2011-03-02   -0.431489\n",
       "2011-03-03         NaN\n",
       "2011-03-04   -0.080627\n",
       "2011-03-05   -0.080627\n",
       "2011-03-06         NaN\n",
       "2011-03-07   -0.426764\n",
       "2011-03-08   -0.426764\n",
       "2011-03-09         NaN\n",
       "2011-03-10   -0.007473\n",
       "2011-03-11   -0.007473\n",
       "2011-03-12         NaN\n",
       "2011-03-13   -1.664196\n",
       "2011-03-14   -1.664196\n",
       "2011-03-15         NaN\n",
       "2011-03-16    0.094096\n",
       "2011-03-17    0.094096\n",
       "2011-03-18         NaN\n",
       "2011-03-19    0.049076\n",
       "2011-03-20    0.049076\n",
       "2011-03-21         NaN\n",
       "2011-03-22   -0.126251\n",
       "2011-03-23   -0.126251\n",
       "2011-03-24         NaN\n",
       "2011-03-25   -0.697282\n",
       "2011-03-26   -0.697282\n",
       "2011-03-27         NaN\n",
       "2011-03-28   -0.233906\n",
       "2011-03-29   -0.233906\n",
       "Freq: D, Length: 88, dtype: float64"
      ]
     },
     "execution_count": 34,
     "metadata": {},
     "output_type": "execute_result"
    }
   ],
   "source": [
    "day3Ts.resample('D').bfill(1)"
   ]
  },
  {
   "cell_type": "code",
   "execution_count": 35,
   "metadata": {},
   "outputs": [
    {
     "data": {
      "text/plain": [
       "2011-01-01    0.083579\n",
       "2011-01-02   -0.342041\n",
       "2011-01-03   -0.767661\n",
       "2011-01-04   -1.193280\n",
       "2011-01-05   -0.912926\n",
       "2011-01-06   -0.632572\n",
       "2011-01-07   -0.352217\n",
       "2011-01-08   -0.099762\n",
       "2011-01-09    0.152693\n",
       "2011-01-10    0.405149\n",
       "2011-01-11   -0.072188\n",
       "2011-01-12   -0.549524\n",
       "2011-01-13   -1.026860\n",
       "2011-01-14   -0.680017\n",
       "2011-01-15   -0.333173\n",
       "2011-01-16    0.013671\n",
       "2011-01-17   -0.031258\n",
       "2011-01-18   -0.076186\n",
       "2011-01-19   -0.121115\n",
       "2011-01-20   -0.184330\n",
       "2011-01-21   -0.247546\n",
       "2011-01-22   -0.310761\n",
       "2011-01-23   -0.421849\n",
       "2011-01-24   -0.532938\n",
       "2011-01-25   -0.644026\n",
       "2011-01-26   -0.510349\n",
       "2011-01-27   -0.376672\n",
       "2011-01-28   -0.242995\n",
       "2011-01-29   -0.455790\n",
       "2011-01-30   -0.668584\n",
       "                ...   \n",
       "2011-02-28    0.433127\n",
       "2011-03-01    0.000819\n",
       "2011-03-02   -0.431489\n",
       "2011-03-03   -0.314535\n",
       "2011-03-04   -0.197581\n",
       "2011-03-05   -0.080627\n",
       "2011-03-06   -0.196006\n",
       "2011-03-07   -0.311385\n",
       "2011-03-08   -0.426764\n",
       "2011-03-09   -0.287000\n",
       "2011-03-10   -0.147237\n",
       "2011-03-11   -0.007473\n",
       "2011-03-12   -0.559714\n",
       "2011-03-13   -1.111955\n",
       "2011-03-14   -1.664196\n",
       "2011-03-15   -1.078099\n",
       "2011-03-16   -0.492001\n",
       "2011-03-17    0.094096\n",
       "2011-03-18    0.079090\n",
       "2011-03-19    0.064083\n",
       "2011-03-20    0.049076\n",
       "2011-03-21   -0.009367\n",
       "2011-03-22   -0.067809\n",
       "2011-03-23   -0.126251\n",
       "2011-03-24   -0.316595\n",
       "2011-03-25   -0.506939\n",
       "2011-03-26   -0.697282\n",
       "2011-03-27   -0.542823\n",
       "2011-03-28   -0.388365\n",
       "2011-03-29   -0.233906\n",
       "Freq: D, Length: 88, dtype: float64"
      ]
     },
     "execution_count": 35,
     "metadata": {},
     "output_type": "execute_result"
    }
   ],
   "source": [
    "day3Ts.resample('D').interpolate('linear')"
   ]
  },
  {
   "cell_type": "markdown",
   "metadata": {},
   "source": [
    "# Moving Window Functions"
   ]
  },
  {
   "cell_type": "code",
   "execution_count": 36,
   "metadata": {},
   "outputs": [],
   "source": [
    "%matplotlib inline\n",
    "import matplotlib.pylab\n",
    "import numpy as np\n",
    "import pandas as pd"
   ]
  },
  {
   "cell_type": "code",
   "execution_count": 37,
   "metadata": {},
   "outputs": [],
   "source": [
    "df = pd.Series(np.random.randn(600),index=pd.date_range('7/1/2016',freq='D',periods=600))"
   ]
  },
  {
   "cell_type": "code",
   "execution_count": 38,
   "metadata": {},
   "outputs": [
    {
     "data": {
      "text/plain": [
       "2016-07-01   -0.580977\n",
       "2016-07-02   -0.761419\n",
       "2016-07-03   -0.559187\n",
       "2016-07-04   -2.032190\n",
       "2016-07-05   -0.802049\n",
       "Freq: D, dtype: float64"
      ]
     },
     "execution_count": 38,
     "metadata": {},
     "output_type": "execute_result"
    }
   ],
   "source": [
    "df.head()"
   ]
  },
  {
   "cell_type": "code",
   "execution_count": 40,
   "metadata": {},
   "outputs": [
    {
     "data": {
      "text/plain": [
       "Rolling [window=10,center=False,axis=0]"
      ]
     },
     "execution_count": 40,
     "metadata": {},
     "output_type": "execute_result"
    }
   ],
   "source": [
    "r = df.rolling(window=10)\n",
    "r"
   ]
  },
  {
   "cell_type": "code",
   "execution_count": 41,
   "metadata": {},
   "outputs": [
    {
     "name": "stdout",
     "output_type": "stream",
     "text": [
      "2016-07-01         NaN\n",
      "2016-07-02         NaN\n",
      "2016-07-03         NaN\n",
      "2016-07-04         NaN\n",
      "2016-07-05         NaN\n",
      "2016-07-06         NaN\n",
      "2016-07-07         NaN\n",
      "2016-07-08         NaN\n",
      "2016-07-09         NaN\n",
      "2016-07-10   -0.279312\n",
      "2016-07-11   -0.226497\n",
      "2016-07-12   -0.190428\n",
      "2016-07-13   -0.126741\n",
      "2016-07-14    0.224064\n",
      "2016-07-15    0.298334\n",
      "2016-07-16   -0.052033\n",
      "2016-07-17   -0.003225\n",
      "2016-07-18   -0.228070\n",
      "2016-07-19   -0.019048\n",
      "2016-07-20   -0.036591\n",
      "2016-07-21    0.088620\n",
      "2016-07-22    0.129877\n",
      "2016-07-23   -0.026002\n",
      "2016-07-24   -0.078131\n",
      "2016-07-25   -0.032467\n",
      "2016-07-26   -0.001142\n",
      "2016-07-27    0.027005\n",
      "2016-07-28    0.174567\n",
      "2016-07-29    0.353358\n",
      "2016-07-30    0.412360\n",
      "                ...   \n",
      "2018-01-22   -0.182337\n",
      "2018-01-23    0.214724\n",
      "2018-01-24   -0.036834\n",
      "2018-01-25   -0.149625\n",
      "2018-01-26   -0.107219\n",
      "2018-01-27   -0.174545\n",
      "2018-01-28   -0.097174\n",
      "2018-01-29   -0.168136\n",
      "2018-01-30   -0.241187\n",
      "2018-01-31   -0.035664\n",
      "2018-02-01    0.011216\n",
      "2018-02-02   -0.252217\n",
      "2018-02-03    0.038656\n",
      "2018-02-04    0.050339\n",
      "2018-02-05    0.072381\n",
      "2018-02-06    0.054250\n",
      "2018-02-07    0.128373\n",
      "2018-02-08    0.212294\n",
      "2018-02-09    0.042502\n",
      "2018-02-10   -0.190461\n",
      "2018-02-11   -0.136195\n",
      "2018-02-12    0.059721\n",
      "2018-02-13   -0.398904\n",
      "2018-02-14   -0.354025\n",
      "2018-02-15   -0.231882\n",
      "2018-02-16   -0.270525\n",
      "2018-02-17   -0.262355\n",
      "2018-02-18   -0.472338\n",
      "2018-02-19   -0.300397\n",
      "2018-02-20   -0.280250\n",
      "Freq: D, Length: 600, dtype: float64\n"
     ]
    }
   ],
   "source": [
    "# r.max, r.median, r.std,r.skew,r.sum,r.var\n",
    "print(r.mean())"
   ]
  },
  {
   "cell_type": "code",
   "execution_count": 42,
   "metadata": {},
   "outputs": [
    {
     "data": {
      "text/plain": [
       "<matplotlib.axes._subplots.AxesSubplot at 0x126bff438>"
      ]
     },
     "execution_count": 42,
     "metadata": {},
     "output_type": "execute_result"
    },
    {
     "data": {
      "image/png": "[encoded data removed]",
      "text/plain": [
       "<Figure size 1080x360 with 1 Axes>"
      ]
     },
     "metadata": {
      "needs_background": "light"
     },
     "output_type": "display_data"
    }
   ],
   "source": [
    "import matplotlib.pyplot as plt\n",
    "plt.figure(figsize=(15,5))\n",
    "df.plot(style='r--')\n",
    "df.rolling(window=10).mean().plot(style='b')"
   ]
  },
  {
   "cell_type": "code",
   "execution_count": null,
   "metadata": {},
   "outputs": [],
   "source": []
  },
  {
   "cell_type": "code",
   "execution_count": null,
   "metadata": {},
   "outputs": [],
   "source": []
  }
 ],
 "metadata": {
  "kernelspec": {
   "display_name": "Python 3",
   "language": "python",
   "name": "python3"
  },
  "language_info": {
   "codemirror_mode": {
    "name": "ipython",
    "version": 3
   },
   "file_extension": ".py",
   "mimetype": "text/x-python",
   "name": "python",
   "nbconvert_exporter": "python",
   "pygments_lexer": "ipython3",
   "version": "3.7.1"
  }
 },
 "nbformat": 4,
 "nbformat_minor": 2
}
