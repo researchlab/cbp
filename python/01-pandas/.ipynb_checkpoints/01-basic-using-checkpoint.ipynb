{
 "cells": [
  {
   "cell_type": "markdown",
   "metadata": {},
   "source": [
    "# Using Pandas\n",
    "## Importing pandas"
   ]
  },
  {
   "cell_type": "code",
   "execution_count": 2,
   "metadata": {},
   "outputs": [],
   "source": [
    "import pandas"
   ]
  },
  {
   "cell_type": "code",
   "execution_count": 5,
   "metadata": {},
   "outputs": [
    {
     "data": {
      "text/plain": [
       "'0.23.4'"
      ]
     },
     "execution_count": 5,
     "metadata": {},
     "output_type": "execute_result"
    }
   ],
   "source": [
    "pandas.__version__"
   ]
  },
  {
   "cell_type": "code",
   "execution_count": 7,
   "metadata": {},
   "outputs": [],
   "source": [
    "import pandas as pd "
   ]
  },
  {
   "cell_type": "code",
   "execution_count": 9,
   "metadata": {},
   "outputs": [
    {
     "data": {
      "text/plain": [
       "'0.23.4'"
      ]
     },
     "execution_count": 9,
     "metadata": {},
     "output_type": "execute_result"
    }
   ],
   "source": [
    "pd.__version__"
   ]
  },
  {
   "cell_type": "code",
   "execution_count": 11,
   "metadata": {},
   "outputs": [
    {
     "name": "stdout",
     "output_type": "stream",
     "text": [
      "\n",
      "INSTALLED VERSIONS\n",
      "------------------\n",
      "commit: None\n",
      "python: 3.7.1.final.0\n",
      "python-bits: 64\n",
      "OS: Darwin\n",
      "OS-release: 18.0.0\n",
      "machine: x86_64\n",
      "processor: i386\n",
      "byteorder: little\n",
      "LC_ALL: en_US.UTF-8\n",
      "LANG: en_US.UTF-8\n",
      "LOCALE: en_US.UTF-8\n",
      "\n",
      "pandas: 0.23.4\n",
      "pytest: 4.0.2\n",
      "pip: 18.1\n",
      "setuptools: 40.6.3\n",
      "Cython: 0.29.2\n",
      "numpy: 1.15.4\n",
      "scipy: 1.1.0\n",
      "pyarrow: None\n",
      "xarray: None\n",
      "IPython: 7.2.0\n",
      "sphinx: 1.8.2\n",
      "patsy: 0.5.1\n",
      "dateutil: 2.7.5\n",
      "pytz: 2018.7\n",
      "blosc: None\n",
      "bottleneck: 1.2.1\n",
      "tables: 3.4.4\n",
      "numexpr: 2.6.8\n",
      "feather: None\n",
      "matplotlib: 3.0.2\n",
      "openpyxl: 2.5.12\n",
      "xlrd: 1.2.0\n",
      "xlwt: 1.3.0\n",
      "xlsxwriter: 1.1.2\n",
      "lxml: 4.2.5\n",
      "bs4: 4.6.3\n",
      "html5lib: 1.0.1\n",
      "sqlalchemy: 1.2.15\n",
      "pymysql: None\n",
      "psycopg2: None\n",
      "jinja2: 2.10\n",
      "s3fs: None\n",
      "fastparquet: None\n",
      "pandas_gbq: None\n",
      "pandas_datareader: None\n"
     ]
    }
   ],
   "source": [
    "pd.show_versions()"
   ]
  },
  {
   "cell_type": "code",
   "execution_count": 13,
   "metadata": {},
   "outputs": [],
   "source": [
    "pd.read_csv?"
   ]
  },
  {
   "cell_type": "code",
   "execution_count": null,
   "metadata": {},
   "outputs": [],
   "source": []
  }
 ],
 "metadata": {
  "kernelspec": {
   "display_name": "Python 3",
   "language": "python",
   "name": "python3"
  },
  "language_info": {
   "codemirror_mode": {
    "name": "ipython",
    "version": 3
   },
   "file_extension": ".py",
   "mimetype": "text/x-python",
   "name": "python",
   "nbconvert_exporter": "python",
   "pygments_lexer": "ipython3",
   "version": "3.7.1"
  }
 },
 "nbformat": 4,
 "nbformat_minor": 2
}
