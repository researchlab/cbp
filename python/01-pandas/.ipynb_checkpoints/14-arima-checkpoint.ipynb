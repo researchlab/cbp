{
 "cells": [
  {
   "cell_type": "markdown",
   "metadata": {},
   "source": [
    "# ARIMA 模型\n",
    "\n",
    "## 平稳性\n",
    "- 平稳性就是要求经由样本时间序列所得到的拟合曲线在未来的一段时间内仍能顺着现有的形态\"惯性\"地延续下去\n",
    "- 平稳性要求序列的均值和方差不发生明显变化\n",
    "\n",
    "## 严平稳和弱平稳\n",
    "- 严平稳: 严平稳表示的分布不随时间的改变而改变(如白噪声(正态),无论怎么取，都是期望为0，方差为1）\n",
    "- 弱平稳: 期望与相关系数(依懒性)不变(未来某时刻的t的值X<sub>t</sub>就要依赖于它的过去信息,所以需要依懒性\n",
    "\n",
    "数据稳定性处理方法\n",
    "- 差分法: 时间序列在t与t-1时刻的差值\n",
    "\n",
    "## 自回归模型AR(p)\n",
    "- 描述当前值与历史值之间的关系, 用变量自身的历史时间数据对自身进行预测\n",
    "- 自回归模型必须满足平稳性的要求\n",
    "- p阶自回归过程的公式定义: ${y}_{t} = \\mu +\\sum _{i=1}^{p}\\gamma _{i}y_{t-i} + \\epsilon _{t}$\n",
    "- $y_{t}$是当前值, $\\mu$是常数项, p是阶数, $\\gamma _{i}$是自相关系数, $\\epsilon _{t}$是误差\n",
    "\n",
    "## 自回归模型的限制\n",
    "- 自回归模型是用自身的数据来进行预测\n",
    "- 必须具有平稳性\n",
    "- 必须具有自相关性, 如果自相关系数($\\gamma_{i}$)小于0.5，则不宜采用\n",
    "- 自回归只适用于预测与自身前期相关的现象\n",
    "\n",
    "## 滑动平均模型MA(q)\n",
    "- 滑动平均模型关注的是自回归模型中的误差项的累加\n",
    "- q阶自回归过程的公式定义: $y_{t} = \\mu + \\epsilon_{t} + \\sum_{i=1}^{q}\\theta_{i}\\epsilon_{t-i}$\n",
    "- 移动平均法能有效地消除预测中的随机波动\n",
    "\n",
    "## 自回归滑动平均模型ARMA\n",
    "- 自回归与滑动平均的结合\n",
    "- 公式定义: $y_{t} = \\mu + \\sum_{i=1}^{p}\\gamma_{i}y_{t-i} + \\epsilon_{t} + \\sum_{i=1}^{q}\\theta_{i}\\epsilon_{t-i}$\n",
    "\n",
    "## ARIMA(p, d, q)模型全称为差分自回归滑动平均模型\n",
    "(Autoregressive Integrated Moving Average Model, ARIMA)\n",
    "\n",
    "- AR是自回归, p为自回归项; MA为滑动平均, q为滑动平均项数, d为时间序列成为平稳时所做的差分次数\n",
    "- 原理: 将非平稳时间序列转化为平稳时间序列然后将因变量仅对它的滞后值以及随机误差项的现值和滞后值进行回归所建立的模型\n",
    "\n",
    "## (p, d, q)选择方法\n",
    "## 自相关函数ACF(autocorrelation function)\n",
    "- 有序的随机变量序列与其自身相比较, 自相关函数反映了同一序列在不同时序的取值之间的相关性\n",
    "- 公式: $ACF(k) = p_{k} = \\frac{Cov(y_{t},y_{t-k}}{Var(y_{t})}$\n",
    "- $p_{k}$取值范围为[-1,1]\n",
    "\n",
    "## 偏自相关函数(PACF)(partial autocorrelation function)\n",
    "- 对于一个平稳AR(p)模型, 求出滞后k自相关系数p(k)时,实际上得到的并不是x(t)与x(t-k)之间单纯的相关关系\n",
    "- x(t)同时还会受到中间k-1个随机变量x(t-1),x(t-2), ..., x(t-k+1)的影响, 而这k-1个随机变量又都和x(t-k)具有相关关系,所以自相关系数p(k)里实际掺杂了其它变量对x(t)与x(t-k)的影响\n",
    "- 剔除了中间k-1个随机变量x(t-1), x(t-2), ..., x(t-k+1)的干扰之后,x(t-k)对x(t)影响的相关程度;\n",
    "- ACF还包含了其它自变量的影响, 而偏自相关系数PACF是严格计算这两个变量之间的相关性;"
   ]
  },
  {
   "cell_type": "code",
   "execution_count": null,
   "metadata": {},
   "outputs": [],
   "source": []
  }
 ],
 "metadata": {
  "kernelspec": {
   "display_name": "Python 3",
   "language": "python",
   "name": "python3"
  },
  "language_info": {
   "codemirror_mode": {
    "name": "ipython",
    "version": 3
   },
   "file_extension": ".py",
   "mimetype": "text/x-python",
   "name": "python",
   "nbconvert_exporter": "python",
   "pygments_lexer": "ipython3",
   "version": "3.7.1"
  }
 },
 "nbformat": 4,
 "nbformat_minor": 2
}
